{
  "nbformat": 4,
  "nbformat_minor": 0,
  "metadata": {
    "colab": {
      "name": "main.ipynb",
      "provenance": [],
      "authorship_tag": "ABX9TyPV1/OBNgsS/IqLu1prl+uw",
      "include_colab_link": true
    },
    "kernelspec": {
      "name": "python3",
      "display_name": "Python 3"
    },
    "language_info": {
      "name": "python"
    }
  },
  "cells": [
    {
      "cell_type": "markdown",
      "metadata": {
        "id": "view-in-github",
        "colab_type": "text"
      },
      "source": [
        "<a href=\"https://colab.research.google.com/github/nerudxlf/create_ids_author/blob/main/main.ipynb\" target=\"_parent\"><img src=\"https://colab.research.google.com/assets/colab-badge.svg\" alt=\"Open In Colab\"/></a>"
      ]
    },
    {
      "cell_type": "code",
      "metadata": {
        "id": "8dg0A19t19HW"
      },
      "source": [
        "import pandas as pd\n",
        "from google.colab import files\n",
        "\n",
        "files.upload()\n",
        "\n",
        "def merge_two_dicts(x, y):\n",
        "    z = x.copy()\n",
        "    z.update(y)\n",
        "    return z"
      ],
      "execution_count": null,
      "outputs": []
    },
    {
      "cell_type": "code",
      "metadata": {
        "id": "m2TAg5wm2IkW"
      },
      "source": [
        "wos_data_df = pd.read_excel(\"wos_article_2016_2021.xls\")\n",
        "authors_list = wos_data_df[\"Authors\"].to_list()\n",
        "\n",
        "id_n = 1\n",
        "dict_name_id = {}\n",
        "for authors in authors_list:\n",
        "  for author in authors.split(\"; \"):\n",
        "    if author in dict_name_id.keys():\n",
        "      pass\n",
        "    else:\n",
        "      dict_name_id = merge_two_dicts(dict_name_id, {author: id_n})\n",
        "      id_n += 1\n",
        "\n",
        "out_df = pd.DataFrame(dict_name_id, index=[\"0\"]).T\n",
        "out_df.to_excel(\"id.xlsx\")"
      ],
      "execution_count": 5,
      "outputs": []
    }
  ]
}